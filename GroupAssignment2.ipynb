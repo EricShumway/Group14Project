{
  "nbformat": 4,
  "nbformat_minor": 0,
  "metadata": {
    "colab": {
      "name": "Untitled0.ipynb",
      "provenance": [],
      "collapsed_sections": []
    },
    "kernelspec": {
      "name": "python3",
      "display_name": "Python 3"
    }
  },
  "cells": [
    {
      "cell_type": "code",
      "metadata": {
        "id": "qKUWo3btP-so",
        "colab_type": "code",
        "colab": {}
      },
      "source": [
        ""
      ],
      "execution_count": 0,
      "outputs": []
    },
    {
      "cell_type": "markdown",
      "metadata": {
        "id": "fameSHdBQCia",
        "colab_type": "text"
      },
      "source": [
        "Group Assignment 2 - Sports ER Diagram\n",
        "\n",
        "Ragni Mehta\n",
        "\n",
        "Eric Shumway\n",
        "\n",
        "Junwei Shang\n",
        "\n",
        "Kunlong Li\n",
        "\n",
        "Luis Munoz\n",
        "\n",
        "Sports is one of the largest businesses around the world. Watching sports on television or online can potentially generate a lot of\n",
        "business for companies such as Hulu, Netflix, and so on. Companies like these would benefit from being able to track the subscriber\n",
        "count and how much much they should be spending on advertisements.\n",
        "\n",
        "\n",
        "First we must create an entity relationship diagram before doing any analysis. The entity relationship diagram below is how we chose\n",
        "to proceed with this idea. The entity tables consist of: **Sports Teams, Sport Organizations, Media Outlets, Countries, and Viewers**. All of these entities also have a set of respective attributes. For example, the attributes for sports' organizations would be as\n",
        "follows: The org name (ex. NFL), the teams that they govern, the media outlets that the org allows their sport to be aired on, the\n",
        "amount of games per season and the game length. These are all attributes that would be very important in accomplishing our goal to\n",
        "see which sports broadcast for a given media outlet such as Hulu, Netflix, ESPN, etc. can bring in the most money via the viewers.\n",
        "\n",
        "The relationships between the entities go as follows: A sport team is governed by a sport organization like the NFL. The sports org\n",
        "can either have control over at least one team, or at least an average of 30 teams, therefore, the upper-limit on relationship would be\n",
        "set to 30. However, vice versa a sport team can only have one affiliated organization (ex. The New York Giants can only have a\n",
        "relationship with the NFL not also the NBA) creating a one to many relationship. The NFL then would air on a media outlet such as\n",
        "CNBC. There would be a many to many relationship between ‘media outlets’ and ‘sports orgs’. Let's assume that at least one or ten\n",
        "different sports orgs (NFL, NBA, NBL) can air on at least one or ten different media outlets (YouTubeRed, CNBC, ESPN), so we can\n",
        "set the limits on both sides of this relationship from 1-10. The media outlet table carries two foreign keys that can branch out into their\n",
        "own entity tables. The media outlet can then either air within one country or many countries. The relationship between media outlets\n",
        "and countries is also a one to many relationship. Outlets such as Netflix have branched out into 190 countries and this is why we\n",
        "chose to set our relationship upper-limit to 190. The media outlet can also have a set amount of subscribers/viewers that tune in to\n",
        "watch the game. The amount of viewers can range from one to over a million. This creates a one to many relationship between\n",
        "viewers and media outlet since the set amount of viewers for a media outlet is unique to that outlet"
      ]
    },
    {
      "cell_type": "markdown",
      "metadata": {
        "id": "48khk9ITRTwr",
        "colab_type": "text"
      },
      "source": [
        "![Diagram](https://)"
      ]
    }
  ]
}